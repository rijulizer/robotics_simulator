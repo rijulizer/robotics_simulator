{
 "cells": [
  {
   "cell_type": "code",
   "execution_count": 1,
   "metadata": {},
   "outputs": [
    {
     "data": {
      "text/plain": [
       "(array([1, 2, 3]),\n",
       " array([[0.19279048, 0.        , 0.        ],\n",
       "        [0.        , 0.79335283, 0.        ],\n",
       "        [0.        , 0.        , 0.74230311]]),\n",
       " array([1, 2]),\n",
       " array([1, 2, 3]))"
      ]
     },
     "execution_count": 1,
     "metadata": {},
     "output_type": "execute_result"
    }
   ],
   "source": [
    "import numpy as np\n",
    "mean = np.array([1,2,3])\n",
    "# define covariance matrix of size 3x3, with random diagonal values in the range [0,1]\n",
    "cov = np.diag(np.random.rand(3))\n",
    "\n",
    "controls = np.array([1,2])\n",
    "measurements = np.array([1,2,3])\n",
    "mean, cov, controls, measurements"
   ]
  },
  {
   "cell_type": "code",
   "execution_count": 7,
   "metadata": {},
   "outputs": [
    {
     "data": {
      "text/plain": [
       "(array([[1., 0., 0.],\n",
       "        [0., 1., 0.],\n",
       "        [0., 0., 1.]]),\n",
       " array([[0.75390225, 0.        ],\n",
       "        [0.6569866 , 0.        ],\n",
       "        [0.        , 1.        ]]),\n",
       " array([[0.77259176, 0.        , 0.        ],\n",
       "        [0.        , 0.64009725, 0.        ],\n",
       "        [0.        , 0.        , 0.44770526]]),\n",
       " array([1.04757194, 1.83918233, 9.        ]),\n",
       " array([[1.9892287 , 0.24220743, 0.24220743],\n",
       "        [0.46555392, 1.13056753, 0.46555392],\n",
       "        [0.31088046, 0.31088046, 1.41826568]]))"
      ]
     },
     "execution_count": 7,
     "metadata": {},
     "output_type": "execute_result"
    }
   ],
   "source": [
    "delta_t= 1\n",
    "\n",
    "# prediction step\n",
    "# state transition matrix A (nxn): n is the number of state variables\n",
    "A = np.identity(len(mean))\n",
    "# get orinetation of the robot\n",
    "theta = mean[2]\n",
    "# Control matrix B (nxm), where m is the number of control inputs\n",
    "B = np.array([[delta_t * np.cos(theta), 0],\n",
    "            [delta_t * np.sin(theta), 0],\n",
    "            [0, delta_t]]\n",
    "            )\n",
    "# measurement noise (nxn), initialize with random values\n",
    "R = np.diag(np.random.rand(len(mean)))\n",
    "# update the mean\n",
    "mean = np.matmul(A, mean) + np.matmul(B, controls)\n",
    "# update covariance matrix\n",
    "cov = np.matmul(np.matmul(A, cov), np.transpose(A)) + R\n",
    "\n",
    "A, B, R, mean, cov"
   ]
  },
  {
   "cell_type": "code",
   "execution_count": 8,
   "metadata": {},
   "outputs": [
    {
     "data": {
      "text/plain": [
       "(array([[1., 0., 0.],\n",
       "        [0., 1., 0.],\n",
       "        [0., 0., 1.]]),\n",
       " array([[0.48645595, 0.        , 0.        ],\n",
       "        [0.        , 0.14649253, 0.        ],\n",
       "        [0.        , 0.        , 0.58424812]]),\n",
       " array([[0.79485629, 0.03483909, 0.01671292],\n",
       "        [0.02016607, 0.874983  , 0.02662543],\n",
       "        [0.02576393, 0.07090908, 0.68864118]]),\n",
       " array([0.91508429, 1.81918316, 4.87833072]),\n",
       " array([[0.38666257, 0.00510367, 0.00976449],\n",
       "        [0.00980991, 0.12817847, 0.01555586],\n",
       "        [0.01253302, 0.01038765, 0.40233731]]))"
      ]
     },
     "execution_count": 8,
     "metadata": {},
     "output_type": "execute_result"
    }
   ],
   "source": [
    "# Correction step\n",
    "# measurement matrix C (kxn), where k is the number of measurements\n",
    "C = np.identity(len(mean))\n",
    "# measurement noise (kxk), initialize with random values\n",
    "Q = np.diag(np.random.rand(len(mean)))\n",
    "\n",
    "# Kalman gain\n",
    "K = np.matmul(np.matmul(cov, np.transpose(C)), np.linalg.inv(np.matmul(np.matmul(C, cov), np.transpose(C)) + Q))\n",
    "# update the mean\n",
    "mean = mean + np.matmul(K, measurements - np.matmul(C, mean))\n",
    "# update covariance matrix\n",
    "cov = np.matmul(np.identity(len(mean)) - np.matmul(K, C), cov)\n",
    "\n",
    "C, Q, K, mean, cov"
   ]
  },
  {
   "cell_type": "code",
   "execution_count": 13,
   "metadata": {},
   "outputs": [],
   "source": [
    "def kalaman_filter(mean, cov, controls, measurements, delta_t):\n",
    "    \"\"\"\n",
    "    Implements the Kalman filter algorithm for state estimation.\n",
    "\n",
    "    Args:\n",
    "        mean (numpy.ndarray): The mean of the state estimate.\n",
    "        cov (numpy.ndarray): The covariance matrix of the state estimate.\n",
    "        controls (numpy.ndarray): The control inputs applied to the system.\n",
    "        measurements (numpy.ndarray): The measurements obtained from the system.\n",
    "        delta_t (float): The time step between control inputs.\n",
    "\n",
    "    Returns:\n",
    "        numpy.ndarray: The updated mean of the state estimate.\n",
    "        numpy.ndarray: The updated covariance matrix of the state estimate.\n",
    "    \"\"\"\n",
    "    \n",
    "    # state transition matrix A (nxn): n is the number of state variables\n",
    "    A = np.identity(len(mean))\n",
    "    # get orientation of the robot\n",
    "    theta = mean[2]\n",
    "    # Control matrix B (nxm), where m is the number of control inputs\n",
    "    B = np.array([[delta_t * np.cos(theta), 0],\n",
    "                [delta_t * np.sin(theta), 0],\n",
    "                [0, delta_t]]\n",
    "                )\n",
    "    # measurement noise (nxn), initialize with random values\n",
    "    R = np.diag(np.random.rand(len(mean)))\n",
    "    # measurement matrix C (kxn), where k is the number of measurements\n",
    "    C = np.identity(len(mean))\n",
    "    # measurement noise (kxk), initialize with random values\n",
    "    Q = np.diag(np.random.rand(len(mean)))\n",
    "    \n",
    "    # prediction step\n",
    "    # update the mean\n",
    "    mean = np.matmul(A, mean) + np.matmul(B, controls)\n",
    "    # update covariance matrix\n",
    "    cov = np.matmul(np.matmul(A, cov), np.transpose(A)) + R\n",
    "    # correction step\n",
    "    # Kalman gain\n",
    "    K = np.matmul(np.matmul(cov, np.transpose(C)), np.linalg.inv(np.matmul(np.matmul(C, cov), np.transpose(C)) + Q))\n",
    "    # update the mean\n",
    "    mean = mean + np.matmul(K, measurements - np.matmul(C, mean))\n",
    "    # update covariance matrix\n",
    "    cov = np.matmul(np.identity(len(mean)) - np.matmul(K, C), cov)\n",
    "\n",
    "    return mean, cov\n"
   ]
  },
  {
   "cell_type": "code",
   "execution_count": 20,
   "metadata": {},
   "outputs": [
    {
     "data": {
      "text/plain": [
       "(array([0.94855665, 2.05930592, 3.62918767]),\n",
       " array([[0.04314669, 0.        , 0.        ],\n",
       "        [0.        , 0.2562228 , 0.        ],\n",
       "        [0.        , 0.        , 0.25575282]]))"
      ]
     },
     "execution_count": 20,
     "metadata": {},
     "output_type": "execute_result"
    }
   ],
   "source": [
    "mean = np.array([1,2,3])\n",
    "# define covariance matrix of size 3x3, with random diagonal values in the range [0,1]\n",
    "cov = np.diag(np.random.rand(3))\n",
    "controls = np.array([1,2])\n",
    "measurements = np.array([1,2,3])\n",
    "\n",
    "kalaman_filter(mean, cov, controls, measurements, delta_t)"
   ]
  },
  {
   "cell_type": "code",
   "execution_count": 17,
   "metadata": {},
   "outputs": [
    {
     "data": {
      "text/plain": [
       "[(1.17712434446770, 3.82287565553230), (3.82287565553230, 1.17712434446770)]"
      ]
     },
     "execution_count": 17,
     "metadata": {},
     "output_type": "execute_result"
    }
   ],
   "source": [
    "\n",
    "\n",
    "import sympy as sp\n",
    "\n",
    "def circle_intersectoins(circle_1_points, circle_2_points):\n",
    "    \"\"\"\n",
    "    Calculate the intersection points of two circles.\n",
    "\n",
    "    Parameters:\n",
    "    circle_1_points (tuple): The center coordinates (x, y) and radius of the first circle.\n",
    "    circle_2_points (tuple): The center coordinates (x, y) and radius of the second circle.\n",
    "    \n",
    "    Returns:\n",
    "    list: A list of tuples representing the coordinates of the intersection points.\n",
    "    \"\"\"\n",
    "    # circulate to get the point of intersection\n",
    "    c1 = sp.Circle((circle_1_points[0], circle_1_points[1]), circle_1_points[2])\n",
    "    c2 = sp.Circle((circle_2_points[0], circle_2_points[1]), circle_2_points[2])\n",
    "    intersection_points = c1.intersection(c2)\n",
    "    # get the coordinates of the intersection points\n",
    "    intersection_points = [(point.x, point.y) for point in [point.evalf() for point in intersection_points]]\n",
    "    return intersection_points\n",
    "\n",
    "landmark_1_x =0\n",
    "landmark_1_y = 0\n",
    "landmark_1_range = 4\n",
    "landmark_2_x = 5\n",
    "landmark_2_y = 5\n",
    "landmark_2_range = 4\n",
    "circle_1_points = [landmark_1_x, landmark_1_y, landmark_1_range]\n",
    "circle_2_points = [landmark_2_x, landmark_2_y, landmark_2_range]\n",
    "intersection_points = circle_intersectoins(circle_1_points, circle_2_points)\n",
    "intersection_points"
   ]
  },
  {
   "cell_type": "code",
   "execution_count": 33,
   "metadata": {},
   "outputs": [],
   "source": [
    "import sympy as sp\n",
    "import numpy as np\n",
    "def atan2(x, y):\n",
    "    \"\"\"Extends the inverse tangent function to all four quadrants.\"\"\"\n",
    "    # print(x, y)\n",
    "    if x == 0:\n",
    "        if y == 0:\n",
    "            return 0\n",
    "        else:\n",
    "            return np.sign(y) * np.pi / 2\n",
    "    elif x > 0:\n",
    "        return np.arctan(float(y / x))\n",
    "    else:\n",
    "        return np.sign(y) * (np.pi - np.arctan(abs(float(y / x))))\n",
    "\n",
    "def circle_intersectoins(circle_1_points, circle_2_points):\n",
    "    \"\"\"\n",
    "    Calculate the intersection points of two circles.\n",
    "\n",
    "    Parameters:\n",
    "    circle_1_points (tuple): The center coordinates (x, y) and radius of the first circle.\n",
    "    circle_2_points (tuple): The center coordinates (x, y) and radius of the second circle.\n",
    "    \n",
    "    Returns:\n",
    "    list: A list of tuples representing the coordinates of the intersection points.\n",
    "    \"\"\"\n",
    "    # circulate to get the point of intersection\n",
    "    c1 = sp.Circle((circle_1_points[0], circle_1_points[1]), circle_1_points[2])\n",
    "    c2 = sp.Circle((circle_2_points[0], circle_2_points[1]), circle_2_points[2])\n",
    "    intersection_points = c1.intersection(c2)\n",
    "    # get the coordinates of the intersection points\n",
    "    intersection_points = [(round(point.x,2),round(point.y,2)) for point in [point.evalf() for point in intersection_points]]\n",
    "    return intersection_points"
   ]
  },
  {
   "cell_type": "code",
   "execution_count": 34,
   "metadata": {},
   "outputs": [
    {
     "data": {
      "text/plain": [
       "[(200.000000000000, 200.000000000000), (400.000000000000, 200.000000000000)]"
      ]
     },
     "execution_count": 34,
     "metadata": {},
     "output_type": "execute_result"
    }
   ],
   "source": [
    "detected_landmarks = [[300, 100, 0, 141.4213562373095, -0.7853981633974483], [300, 500, 1, 316.22776601683796, 1.2490457723982544], [500, 700, 2, 583.09518948453, 1.0303768265243125], [500, 300, 3, 316.22776601683796, 0.3217505543966422], [700, 100, 4, 509.9019513592785, -0.19739555984988078], [700, 500, 5, 583.09518948453, 0.5404195002705842], [100, 100, 6, 141.4213562373095, -2.356194490192345], [100, 700, 7, 509.9019513592785, 1.7681918866447772], [900, 100, 8, 707.1067811865476, -0.1418970546041639], [900, 700, 9, 860.2325267042627, 0.6202494859828215]]\n",
    "# get the last 2 landmarks\n",
    "detected_landmarks = detected_landmarks[:-2]\n",
    "beacon_1 = detected_landmarks[0]\n",
    "beacon_2 = detected_landmarks[1]\n",
    "# get the two points of intersection of the two circles\n",
    "pos_points = circle_intersectoins([beacon_1[0], beacon_1[1], beacon_1[3]], [beacon_2[0], beacon_2[1], beacon_2[3]])\n",
    "pos_points"
   ]
  },
  {
   "cell_type": "code",
   "execution_count": 40,
   "metadata": {},
   "outputs": [
    {
     "name": "stdout",
     "output_type": "stream",
     "text": [
      "200.000000000000 200.000000000000\n",
      "beacon_1: (300, 100, -0.7853981633974483)\n",
      "beacon_2: (300, 500, 1.2490457723982544)\n",
      "0.0\n",
      "0.0\n",
      "0.0\n",
      "400.000000000000 200.000000000000\n",
      "beacon_1: (300, 100, -0.7853981633974483)\n",
      "beacon_2: (300, 500, 1.2490457723982544)\n",
      "-1.5707963267948966\n",
      "0.6435011087932843\n",
      "2.214297435588181\n",
      "Final position:  200.000000000000 200.000000000000 0.0\n"
     ]
    }
   ],
   "source": [
    "delta_min = np.inf\n",
    "for x,y in pos_points:\n",
    "    print(x,y)\n",
    "    print(f\"beacon_1: {beacon_1[0], beacon_1[1], beacon_1[4]}\")\n",
    "    print(f\"beacon_2: {beacon_2[0], beacon_2[1], beacon_2[4]}\")\n",
    "    print(atan2(beacon_1[0] - x, beacon_1[1]- y) -  beacon_1[4])\n",
    "    print(atan2(beacon_2[0] - x, beacon_2[1] - y) - beacon_2[4])\n",
    "\n",
    "    delta = abs((atan2(beacon_1[0] - x, beacon_1[1]- y) -  beacon_1[4]) \n",
    "                - (atan2(beacon_2[0] - x, beacon_2[1] - y) - beacon_2[4]))\n",
    "    print(delta)\n",
    "    if delta < delta_min:\n",
    "        delta_min = delta\n",
    "        bel_pos_x = x\n",
    "        bel_pos_y = y\n",
    "        \n",
    "bel_theta = (atan2(beacon_1[0] - bel_pos_x, beacon_1[1]- bel_pos_y) -  beacon_1[4])\n",
    "print(\"Final position: \", bel_pos_x, bel_pos_y, bel_theta)\n"
   ]
  },
  {
   "cell_type": "code",
   "execution_count": 18,
   "metadata": {},
   "outputs": [
    {
     "data": {
      "text/plain": [
       "0.7853981633974433"
      ]
     },
     "execution_count": 18,
     "metadata": {},
     "output_type": "execute_result"
    }
   ],
   "source": [
    "x, y  = -100.000000000001, 100.000000000000\n",
    "np.arctan(abs(y / x))"
   ]
  },
  {
   "cell_type": "code",
   "execution_count": 2,
   "metadata": {},
   "outputs": [
    {
     "data": {
      "text/plain": [
       "True"
      ]
     },
     "execution_count": 2,
     "metadata": {},
     "output_type": "execute_result"
    }
   ],
   "source": [
    "import sympy as sp\n",
    "def point_on_line(point, line):\n",
    "    \"\"\"\n",
    "    Check if a point lies on a line defined by two points.\n",
    "\n",
    "    Parameters:\n",
    "    point (tuple): The coordinates of the point.\n",
    "    line (tuple): The coordinates of the two points defining the line.\n",
    "    \n",
    "    Returns:\n",
    "    bool: True if the point lies on the line, False otherwise.\n",
    "    \"\"\"\n",
    "    # create the line using the two points\n",
    "    line = sp.Line(line[0], line[1])\n",
    "    # create the point using the coordinates\n",
    "    point = sp.Point(point)\n",
    "    # check if the point lies on the line\n",
    "    return line.contains(point)\n",
    "point = (1,1)\n",
    "line = ((0,0), (2,2))\n",
    "point_on_line(point, line)\n"
   ]
  },
  {
   "cell_type": "code",
   "execution_count": 7,
   "metadata": {},
   "outputs": [
    {
     "data": {
      "text/plain": [
       "[2, 3]"
      ]
     },
     "execution_count": 7,
     "metadata": {},
     "output_type": "execute_result"
    }
   ],
   "source": [
    "detected_landmarks = [2,3]\n",
    "if len(detected_landmarks) >= 2:\n",
    "    # get the last 2 landmarks\n",
    "    detected_landmarks = detected_landmarks[-2:]\n",
    "detected_landmarks"
   ]
  },
  {
   "cell_type": "code",
   "execution_count": 5,
   "metadata": {},
   "outputs": [
    {
     "data": {
      "text/plain": [
       "array([ 0.09612686, -0.09591155,  0.23509782, -0.06702353,  0.14493494,\n",
       "        0.24684562,  0.8361739 , -0.27415108,  0.56625954,  1.01049958,\n",
       "       -0.671433  ,  0.07745794, -0.20444376,  0.43520446, -0.36435918,\n",
       "       -0.2708616 ,  0.60504673, -0.16019392, -0.03407604, -0.01612747,\n",
       "       -0.57760533, -0.40490252, -0.63645878, -0.49910351, -0.46878162,\n",
       "        0.47084053,  0.24760893, -0.69679751, -0.8508698 ,  0.33878837,\n",
       "        0.18724086,  0.41090958, -0.16747195, -0.35732207, -0.57258313,\n",
       "        0.22868546, -0.01092495,  0.33799394, -0.08612942,  0.09121397,\n",
       "        0.08543347,  0.12618827, -0.4715169 ,  0.7811177 , -0.8394819 ,\n",
       "        0.51790447,  0.4459283 ,  0.2489163 ,  0.06026367,  0.42450078,\n",
       "        0.45162359, -0.7308123 , -0.23024212,  0.6928438 , -1.02530587,\n",
       "        0.8981935 , -0.3730893 , -0.28235911,  1.00233968,  0.33737649,\n",
       "       -0.12809009, -0.49126745, -0.14297473, -0.67784777, -0.8027795 ,\n",
       "        0.37143629,  0.51561046, -0.05656401,  0.03208754, -0.28028167,\n",
       "       -0.52082661,  0.81917922,  0.41318803, -0.36163061,  0.38454302,\n",
       "       -0.1913877 , -0.17928019,  0.23611827,  0.70231536,  0.03284001,\n",
       "       -0.23811026,  0.29216933,  0.10215145, -0.27914553,  0.36839697,\n",
       "        0.37363153, -0.23841628, -0.16701484,  1.16253935, -0.04994743,\n",
       "       -0.19455435, -0.47551883,  0.22937061,  0.0324941 , -0.33231547,\n",
       "       -1.04056278, -0.25069421,  0.265309  ,  0.16441296,  0.00865083])"
      ]
     },
     "execution_count": 5,
     "metadata": {},
     "output_type": "execute_result"
    }
   ],
   "source": [
    "np.random.normal(0, 0.5, 100)"
   ]
  },
  {
   "cell_type": "code",
   "execution_count": 50,
   "metadata": {},
   "outputs": [
    {
     "name": "stdout",
     "output_type": "stream",
     "text": [
      "(1.0, 1.0)\n",
      "--- 0.002978801727294922 seconds ---\n"
     ]
    }
   ],
   "source": [
    "# sympy intersection of two lines\n",
    "import sympy as sp\n",
    "import numpy as np\n",
    "\n",
    "# wriet a function to get the intersection of two lines and handle all the corner cases\n",
    "def line_line_intersections(line1, line2):\n",
    "    # define env_line\n",
    "    env_line = sp.Line(sp.Point(line1[0][0], line1[0][1]), sp.Point(line1[1][0], line1[1][1]))\n",
    "    l2 = sp.Line(sp.Point(line2[0][0], line2[0][1]), sp.Point(line2[1][0], line2[1][1]))\n",
    "    intersection = env_line.intersection(l2)\n",
    "    # get the coordinates of the intersection point as a tuple of floats\n",
    "    if len(intersection) == 1 and isinstance(intersection[0], sp.Point):\n",
    "        return (float(intersection[0].x), float(intersection[0].y))\n",
    "    return None\n",
    "\n",
    "# time the function\n",
    "import time\n",
    "start_time = time.time()\n",
    "# test\n",
    "line1 = [(0, 0), (2, 2)]\n",
    "line2 = [(0, 2), (2, 0)]\n",
    "print(line_line_intersections(line1, line2))\n",
    "print(\"--- %s seconds ---\" % (time.time() - start_time))"
   ]
  },
  {
   "cell_type": "code",
   "execution_count": 51,
   "metadata": {},
   "outputs": [
    {
     "name": "stdout",
     "output_type": "stream",
     "text": [
      "(1.0, 1.0)\n",
      "--- 0.0007700920104980469 seconds ---\n"
     ]
    }
   ],
   "source": [
    "from shapely.geometry import LineString\n",
    "\n",
    "def line_line_intersections_shap(line1, line2):\n",
    "\n",
    "    line1 = LineString(line1)\n",
    "    line2 = LineString(line2)\n",
    "\n",
    "    intersection = line1.intersection(line2)\n",
    "\n",
    "    if intersection.is_empty:\n",
    "        return None\n",
    "    elif intersection.geom_type == 'Point':\n",
    "        return intersection.x, intersection.y\n",
    "    elif intersection.geom_type == 'MultiPoint':\n",
    "        # If there are multiple intersection points, return the first one\n",
    "        return intersection[0].x, intersection[0].y\n",
    "    else:\n",
    "        return None\n",
    "start_time = time.time()\n",
    "# test\n",
    "line1 = [(0, 0), (2, 2)]\n",
    "# line2 = [(0, 2), (2, 0)]\n",
    "\n",
    "print(line_line_intersections_shap(line1, line2))\n",
    "print(\"--- %s seconds ---\" % (time.time() - start_time))"
   ]
  },
  {
   "cell_type": "code",
   "execution_count": 52,
   "metadata": {},
   "outputs": [
    {
     "data": {
      "text/plain": [
       "[2, 4, 3, 1, 2, 3]"
      ]
     },
     "execution_count": 52,
     "metadata": {},
     "output_type": "execute_result"
    }
   ],
   "source": [
    "a= [2,4,3]\n",
    "b = [1,2,3]\n",
    "a.extend(b)\n",
    "a"
   ]
  },
  {
   "cell_type": "code",
   "execution_count": null,
   "metadata": {},
   "outputs": [],
   "source": []
  }
 ],
 "metadata": {
  "kernelspec": {
   "display_name": "env_robotics",
   "language": "python",
   "name": "python3"
  },
  "language_info": {
   "codemirror_mode": {
    "name": "ipython",
    "version": 3
   },
   "file_extension": ".py",
   "mimetype": "text/x-python",
   "name": "python",
   "nbconvert_exporter": "python",
   "pygments_lexer": "ipython3",
   "version": "3.11.8"
  }
 },
 "nbformat": 4,
 "nbformat_minor": 2
}
