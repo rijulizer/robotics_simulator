{
 "cells": [
  {
   "cell_type": "code",
   "execution_count": 2,
   "metadata": {},
   "outputs": [
    {
     "data": {
      "text/plain": [
       "(array([1, 2, 3]),\n",
       " array([[0.97442951, 0.        , 0.        ],\n",
       "        [0.        , 0.02491636, 0.        ],\n",
       "        [0.        , 0.        , 0.65967996]]),\n",
       " array([1, 2]),\n",
       " array([1, 2, 3]))"
      ]
     },
     "execution_count": 2,
     "metadata": {},
     "output_type": "execute_result"
    }
   ],
   "source": [
    "import numpy as np\n",
    "mean = np.array([1,2,3])\n",
    "# define covariance matrix of size 3x3, with random diagonal values in the range [0,1]\n",
    "cov = np.diag(np.random.rand(3))\n",
    "\n",
    "controls = np.array([1,2])\n",
    "measurements = np.array([1,2,3])\n",
    "mean, cov, controls, measurements"
   ]
  },
  {
   "cell_type": "code",
   "execution_count": 7,
   "metadata": {},
   "outputs": [
    {
     "data": {
      "text/plain": [
       "(array([[1., 0., 0.],\n",
       "        [0., 1., 0.],\n",
       "        [0., 0., 1.]]),\n",
       " array([[0.75390225, 0.        ],\n",
       "        [0.6569866 , 0.        ],\n",
       "        [0.        , 1.        ]]),\n",
       " array([[0.77259176, 0.        , 0.        ],\n",
       "        [0.        , 0.64009725, 0.        ],\n",
       "        [0.        , 0.        , 0.44770526]]),\n",
       " array([1.04757194, 1.83918233, 9.        ]),\n",
       " array([[1.9892287 , 0.24220743, 0.24220743],\n",
       "        [0.46555392, 1.13056753, 0.46555392],\n",
       "        [0.31088046, 0.31088046, 1.41826568]]))"
      ]
     },
     "execution_count": 7,
     "metadata": {},
     "output_type": "execute_result"
    }
   ],
   "source": [
    "delta_t= 1\n",
    "\n",
    "# prediction step\n",
    "# state transition matrix A (nxn): n is the number of state variables\n",
    "A = np.identity(len(mean))\n",
    "# get orinetation of the robot\n",
    "theta = mean[2]\n",
    "# Control matrix B (nxm), where m is the number of control inputs\n",
    "B = np.array([[delta_t * np.cos(theta), 0],\n",
    "            [delta_t * np.sin(theta), 0],\n",
    "            [0, delta_t]]\n",
    "            )\n",
    "# measurement noise (nxn), initialize with random values\n",
    "R = np.diag(np.random.rand(len(mean)))\n",
    "# update the mean\n",
    "mean = np.matmul(A, mean) + np.matmul(B, controls)\n",
    "# update covariance matrix\n",
    "cov = np.matmul(np.matmul(A, cov), np.transpose(A)) + R\n",
    "\n",
    "A, B, R, mean, cov"
   ]
  },
  {
   "cell_type": "code",
   "execution_count": 8,
   "metadata": {},
   "outputs": [
    {
     "data": {
      "text/plain": [
       "(array([[1., 0., 0.],\n",
       "        [0., 1., 0.],\n",
       "        [0., 0., 1.]]),\n",
       " array([[0.48645595, 0.        , 0.        ],\n",
       "        [0.        , 0.14649253, 0.        ],\n",
       "        [0.        , 0.        , 0.58424812]]),\n",
       " array([[0.79485629, 0.03483909, 0.01671292],\n",
       "        [0.02016607, 0.874983  , 0.02662543],\n",
       "        [0.02576393, 0.07090908, 0.68864118]]),\n",
       " array([0.91508429, 1.81918316, 4.87833072]),\n",
       " array([[0.38666257, 0.00510367, 0.00976449],\n",
       "        [0.00980991, 0.12817847, 0.01555586],\n",
       "        [0.01253302, 0.01038765, 0.40233731]]))"
      ]
     },
     "execution_count": 8,
     "metadata": {},
     "output_type": "execute_result"
    }
   ],
   "source": [
    "# Correction step\n",
    "# measurement matrix C (kxn), where k is the number of measurements\n",
    "C = np.identity(len(mean))\n",
    "# measurement noise (kxk), initialize with random values\n",
    "Q = np.diag(np.random.rand(len(mean)))\n",
    "\n",
    "# Kalman gain\n",
    "K = np.matmul(np.matmul(cov, np.transpose(C)), np.linalg.inv(np.matmul(np.matmul(C, cov), np.transpose(C)) + Q))\n",
    "# update the mean\n",
    "mean = mean + np.matmul(K, measurements - np.matmul(C, mean))\n",
    "# update covariance matrix\n",
    "cov = np.matmul(np.identity(len(mean)) - np.matmul(K, C), cov)\n",
    "\n",
    "C, Q, K, mean, cov"
   ]
  },
  {
   "cell_type": "code",
   "execution_count": 13,
   "metadata": {},
   "outputs": [],
   "source": [
    "def kalaman_filter(mean, cov, controls, measurements, delta_t):\n",
    "    \"\"\"\n",
    "    Implements the Kalman filter algorithm for state estimation.\n",
    "\n",
    "    Args:\n",
    "        mean (numpy.ndarray): The mean of the state estimate.\n",
    "        cov (numpy.ndarray): The covariance matrix of the state estimate.\n",
    "        controls (numpy.ndarray): The control inputs applied to the system.\n",
    "        measurements (numpy.ndarray): The measurements obtained from the system.\n",
    "        delta_t (float): The time step between control inputs.\n",
    "\n",
    "    Returns:\n",
    "        numpy.ndarray: The updated mean of the state estimate.\n",
    "        numpy.ndarray: The updated covariance matrix of the state estimate.\n",
    "    \"\"\"\n",
    "    \n",
    "    # state transition matrix A (nxn): n is the number of state variables\n",
    "    A = np.identity(len(mean))\n",
    "    # get orientation of the robot\n",
    "    theta = mean[2]\n",
    "    # Control matrix B (nxm), where m is the number of control inputs\n",
    "    B = np.array([[delta_t * np.cos(theta), 0],\n",
    "                [delta_t * np.sin(theta), 0],\n",
    "                [0, delta_t]]\n",
    "                )\n",
    "    # measurement noise (nxn), initialize with random values\n",
    "    R = np.diag(np.random.rand(len(mean)))\n",
    "    # measurement matrix C (kxn), where k is the number of measurements\n",
    "    C = np.identity(len(mean))\n",
    "    # measurement noise (kxk), initialize with random values\n",
    "    Q = np.diag(np.random.rand(len(mean)))\n",
    "    \n",
    "    # prediction step\n",
    "    # update the mean\n",
    "    mean = np.matmul(A, mean) + np.matmul(B, controls)\n",
    "    # update covariance matrix\n",
    "    cov = np.matmul(np.matmul(A, cov), np.transpose(A)) + R\n",
    "    # correction step\n",
    "    # Kalman gain\n",
    "    K = np.matmul(np.matmul(cov, np.transpose(C)), np.linalg.inv(np.matmul(np.matmul(C, cov), np.transpose(C)) + Q))\n",
    "    # update the mean\n",
    "    mean = mean + np.matmul(K, measurements - np.matmul(C, mean))\n",
    "    # update covariance matrix\n",
    "    cov = np.matmul(np.identity(len(mean)) - np.matmul(K, C), cov)\n",
    "\n",
    "    return mean, cov\n",
    "\n",
    "    \n",
    "    "
   ]
  },
  {
   "cell_type": "code",
   "execution_count": 20,
   "metadata": {},
   "outputs": [
    {
     "data": {
      "text/plain": [
       "(array([0.94855665, 2.05930592, 3.62918767]),\n",
       " array([[0.04314669, 0.        , 0.        ],\n",
       "        [0.        , 0.2562228 , 0.        ],\n",
       "        [0.        , 0.        , 0.25575282]]))"
      ]
     },
     "execution_count": 20,
     "metadata": {},
     "output_type": "execute_result"
    }
   ],
   "source": [
    "mean = np.array([1,2,3])\n",
    "# define covariance matrix of size 3x3, with random diagonal values in the range [0,1]\n",
    "cov = np.diag(np.random.rand(3))\n",
    "controls = np.array([1,2])\n",
    "measurements = np.array([1,2,3])\n",
    "\n",
    "kalaman_filter(mean, cov, controls, measurements, delta_t)"
   ]
  },
  {
   "cell_type": "code",
   "execution_count": null,
   "metadata": {},
   "outputs": [],
   "source": []
  }
 ],
 "metadata": {
  "kernelspec": {
   "display_name": "env_robotics",
   "language": "python",
   "name": "python3"
  },
  "language_info": {
   "codemirror_mode": {
    "name": "ipython",
    "version": 3
   },
   "file_extension": ".py",
   "mimetype": "text/x-python",
   "name": "python",
   "nbconvert_exporter": "python",
   "pygments_lexer": "ipython3",
   "version": "3.11.8"
  }
 },
 "nbformat": 4,
 "nbformat_minor": 2
}
