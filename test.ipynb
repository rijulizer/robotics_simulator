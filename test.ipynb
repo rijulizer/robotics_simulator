{
 "cells": [
  {
   "cell_type": "code",
   "execution_count": 1,
   "metadata": {},
   "outputs": [
    {
     "data": {
      "text/plain": [
       "array([[ 2,  6, 12],\n",
       "       [ 2,  6, 12],\n",
       "       [ 2,  6, 12]])"
      ]
     },
     "execution_count": 1,
     "metadata": {},
     "output_type": "execute_result"
    }
   ],
   "source": [
    "import numpy as np\n",
    "a= np.array([[1,2,3],[1,2,3],[1,2,3]])\n",
    "b = np.array([1,2,3])#.reshape(3,1)\n",
    "a * b + b\n"
   ]
  },
  {
   "cell_type": "code",
   "execution_count": 4,
   "metadata": {},
   "outputs": [
    {
     "data": {
      "text/plain": [
       "(3, 3)"
      ]
     },
     "execution_count": 4,
     "metadata": {},
     "output_type": "execute_result"
    }
   ],
   "source": [
    "a.shape"
   ]
  },
  {
   "cell_type": "code",
   "execution_count": 2,
   "metadata": {},
   "outputs": [
    {
     "data": {
      "text/plain": [
       "-0.4480736161291702"
      ]
     },
     "execution_count": 2,
     "metadata": {},
     "output_type": "execute_result"
    }
   ],
   "source": [
    "np.cos(90.0)\n"
   ]
  },
  {
   "cell_type": "code",
   "execution_count": 2,
   "metadata": {},
   "outputs": [],
   "source": [
    "def perp( a ) :\n",
    "    b = np.empty_like(a)\n",
    "    b[0] = -a[1]\n",
    "    b[1] = a[0]\n",
    "    return b\n",
    "\n",
    "# line segment a given by endpoints a1, a2\n",
    "# line segment b given by endpoints b1, b2\n",
    "def seg_intersect(a1,a2, b1,b2) :\n",
    "    \"\"\"_summary_\n",
    "\n",
    "    Args:\n",
    "        a1 (np array of floats): Coordinates of one end of Line segment a\n",
    "        a2 (np array of floats): Coordinates of other end of Line segment a\n",
    "        b1 (np array of floats): Coordinates of one end of Line segment b\n",
    "        b2 (np array of floats): Coordinates of other end of Line segment a\n",
    "\n",
    "    Returns:\n",
    "        np array of floats: Coordinates of point of intersection of Line segment a and b\n",
    "    \"\"\"\n",
    "    da = a2-a1\n",
    "    db = b2-b1\n",
    "    dp = a1-b1\n",
    "    dap = perp(da)\n",
    "    denom = np.dot( dap, db)\n",
    "    num = np.dot( dap, dp )\n",
    "    return (num / denom) * db + b1"
   ]
  },
  {
   "cell_type": "code",
   "execution_count": 6,
   "metadata": {},
   "outputs": [
    {
     "name": "stderr",
     "output_type": "stream",
     "text": [
      "/var/folders/10/pb3d8l9j0k574h4mx201hv3m0000gn/T/ipykernel_12850/1987528859.py:27: RuntimeWarning: divide by zero encountered in scalar divide\n",
      "  return (num / denom) * db + b1\n",
      "/var/folders/10/pb3d8l9j0k574h4mx201hv3m0000gn/T/ipykernel_12850/1987528859.py:27: RuntimeWarning: invalid value encountered in multiply\n",
      "  return (num / denom) * db + b1\n"
     ]
    },
    {
     "data": {
      "text/plain": [
       "array([nan, inf])"
      ]
     },
     "execution_count": 6,
     "metadata": {},
     "output_type": "execute_result"
    }
   ],
   "source": [
    "line_1 = np.array([(0,0),(0,5)])\n",
    "line_2 = np.array([(1,0),(1,5)])\n",
    "a= seg_intersect(line_1[0],line_1[1],line_2[0],line_2[1])\n",
    "a"
   ]
  },
  {
   "cell_type": "code",
   "execution_count": 10,
   "metadata": {},
   "outputs": [
    {
     "data": {
      "text/plain": [
       "False"
      ]
     },
     "execution_count": 10,
     "metadata": {},
     "output_type": "execute_result"
    }
   ],
   "source": [
    "all(np.isfinite(a))"
   ]
  },
  {
   "cell_type": "code",
   "execution_count": 12,
   "metadata": {},
   "outputs": [
    {
     "data": {
      "text/plain": [
       "array([0. , 2.5])"
      ]
     },
     "execution_count": 12,
     "metadata": {},
     "output_type": "execute_result"
    }
   ],
   "source": [
    "line_1 = np.array([(0,0),(0,5)])\n",
    "line_2 = np.array([(1,0),(-1,5)])\n",
    "a= seg_intersect(line_1[0],line_1[1],line_2[0],line_2[1])\n",
    "a"
   ]
  },
  {
   "cell_type": "code",
   "execution_count": 13,
   "metadata": {},
   "outputs": [
    {
     "data": {
      "text/plain": [
       "True"
      ]
     },
     "execution_count": 13,
     "metadata": {},
     "output_type": "execute_result"
    }
   ],
   "source": [
    "all(np.isfinite(a))"
   ]
  }
 ],
 "metadata": {
  "kernelspec": {
   "display_name": "env_robotics",
   "language": "python",
   "name": "python3"
  },
  "language_info": {
   "codemirror_mode": {
    "name": "ipython",
    "version": 3
   },
   "file_extension": ".py",
   "mimetype": "text/x-python",
   "name": "python",
   "nbconvert_exporter": "python",
   "pygments_lexer": "ipython3",
   "version": "3.11.8"
  }
 },
 "nbformat": 4,
 "nbformat_minor": 2
}
